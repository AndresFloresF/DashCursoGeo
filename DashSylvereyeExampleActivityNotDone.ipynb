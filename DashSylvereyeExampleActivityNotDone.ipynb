{
  "nbformat": 4,
  "nbformat_minor": 0,
  "metadata": {
    "colab": {
      "name": "DashSylvereyeExampleActivityNotDone.ipynb",
      "provenance": [],
      "collapsed_sections": [],
      "include_colab_link": true
    },
    "kernelspec": {
      "name": "python3",
      "display_name": "Python 3"
    },
    "language_info": {
      "name": "python"
    }
  },
  "cells": [
    {
      "cell_type": "markdown",
      "metadata": {
        "id": "view-in-github",
        "colab_type": "text"
      },
      "source": [
        "<a href=\"https://colab.research.google.com/github/AndresFloresF/DashCursoGeo/blob/master/DashSylvereyeExampleActivityNotDone.ipynb\" target=\"_parent\"><img src=\"https://colab.research.google.com/assets/colab-badge.svg\" alt=\"Open In Colab\"/></a>"
      ]
    },
    {
      "cell_type": "markdown",
      "source": [
        "## Ejemplo Dash Sylvereye: \n",
        "### Visualizando las longitudes de calles\n",
        "### Autor: Alberto García Robledo, CONACYT-CentroGeo\n"
      ],
      "metadata": {
        "id": "0gTU-6ZR3ABa"
      }
    },
    {
      "cell_type": "code",
      "source": [
        "# instalar Dash Sylvereye\n",
        "# esto puede tomar un tiempo\n",
        "\n",
        "!pip install --extra-index-url http://pypi.observatoriogeo.mx/simple/ --trusted-host pypi.observatoriogeo.mx dash_sylvereye==0.1.1"
      ],
      "metadata": {
        "id": "r6XH7k3tc4q4",
        "outputId": "1e8ce6e5-dbcd-4328-df07-7bb80868e4d0",
        "colab": {
          "base_uri": "https://localhost:8080/"
        }
      },
      "execution_count": 1,
      "outputs": [
        {
          "output_type": "stream",
          "name": "stdout",
          "text": [
            "Looking in indexes: https://pypi.org/simple, https://us-python.pkg.dev/colab-wheels/public/simple/, http://pypi.observatoriogeo.mx/simple/\n",
            "Collecting dash_sylvereye==0.1.1\n",
            "  Downloading http://pypi.observatoriogeo.mx/packages/dash_sylvereye-0.1.1.tar.gz (2.1 MB)\n",
            "\u001b[K     |████████████████████████████████| 2.1 MB 9.8 kB/s \n",
            "\u001b[?25hCollecting dash==1.12.0\n",
            "  Downloading dash-1.12.0.tar.gz (66 kB)\n",
            "\u001b[K     |████████████████████████████████| 66 kB 3.8 MB/s \n",
            "\u001b[?25hCollecting dash-leaflet\n",
            "  Downloading dash_leaflet-0.1.23-py3-none-any.whl (1.9 MB)\n",
            "\u001b[K     |████████████████████████████████| 1.9 MB 41.5 MB/s \n",
            "\u001b[?25hRequirement already satisfied: networkx in /usr/local/lib/python3.7/dist-packages (from dash_sylvereye==0.1.1) (2.6.3)\n",
            "Requirement already satisfied: shapely in /usr/local/lib/python3.7/dist-packages (from dash_sylvereye==0.1.1) (1.8.2)\n",
            "Collecting pyproj\n",
            "  Downloading pyproj-3.2.1-cp37-cp37m-manylinux2010_x86_64.whl (6.3 MB)\n",
            "\u001b[K     |████████████████████████████████| 6.3 MB 53.6 MB/s \n",
            "\u001b[?25hCollecting memoization\n",
            "  Downloading memoization-0.4.0.tar.gz (41 kB)\n",
            "\u001b[K     |████████████████████████████████| 41 kB 216 kB/s \n",
            "\u001b[?25hRequirement already satisfied: Flask>=1.0.2 in /usr/local/lib/python3.7/dist-packages (from dash==1.12.0->dash_sylvereye==0.1.1) (1.1.4)\n",
            "Collecting flask-compress\n",
            "  Downloading Flask_Compress-1.12-py3-none-any.whl (7.9 kB)\n",
            "Requirement already satisfied: plotly in /usr/local/lib/python3.7/dist-packages (from dash==1.12.0->dash_sylvereye==0.1.1) (5.5.0)\n",
            "Collecting dash_renderer==1.4.1\n",
            "  Downloading dash_renderer-1.4.1.tar.gz (1.2 MB)\n",
            "\u001b[K     |████████████████████████████████| 1.2 MB 42.9 MB/s \n",
            "\u001b[?25hCollecting dash-core-components==1.10.0\n",
            "  Downloading dash_core_components-1.10.0.tar.gz (3.4 MB)\n",
            "\u001b[K     |████████████████████████████████| 3.4 MB 41.1 MB/s \n",
            "\u001b[?25hCollecting dash-html-components==1.0.3\n",
            "  Downloading dash_html_components-1.0.3.tar.gz (187 kB)\n",
            "\u001b[K     |████████████████████████████████| 187 kB 51.0 MB/s \n",
            "\u001b[?25hCollecting dash-table==4.7.0\n",
            "  Downloading dash_table-4.7.0.tar.gz (1.8 MB)\n",
            "\u001b[K     |████████████████████████████████| 1.8 MB 64.1 MB/s \n",
            "\u001b[?25hRequirement already satisfied: future in /usr/local/lib/python3.7/dist-packages (from dash==1.12.0->dash_sylvereye==0.1.1) (0.16.0)\n",
            "Requirement already satisfied: Werkzeug<2.0,>=0.15 in /usr/local/lib/python3.7/dist-packages (from Flask>=1.0.2->dash==1.12.0->dash_sylvereye==0.1.1) (1.0.1)\n",
            "Requirement already satisfied: Jinja2<3.0,>=2.10.1 in /usr/local/lib/python3.7/dist-packages (from Flask>=1.0.2->dash==1.12.0->dash_sylvereye==0.1.1) (2.11.3)\n",
            "Requirement already satisfied: itsdangerous<2.0,>=0.24 in /usr/local/lib/python3.7/dist-packages (from Flask>=1.0.2->dash==1.12.0->dash_sylvereye==0.1.1) (1.1.0)\n",
            "Requirement already satisfied: click<8.0,>=5.1 in /usr/local/lib/python3.7/dist-packages (from Flask>=1.0.2->dash==1.12.0->dash_sylvereye==0.1.1) (7.1.2)\n",
            "Requirement already satisfied: MarkupSafe>=0.23 in /usr/local/lib/python3.7/dist-packages (from Jinja2<3.0,>=2.10.1->Flask>=1.0.2->dash==1.12.0->dash_sylvereye==0.1.1) (2.0.1)\n",
            "Collecting geobuf\n",
            "  Downloading geobuf-1.1.1-py3-none-any.whl (13 kB)\n",
            "Collecting brotli\n",
            "  Downloading Brotli-1.0.9-cp37-cp37m-manylinux1_x86_64.whl (357 kB)\n",
            "\u001b[K     |████████████████████████████████| 357 kB 48.8 MB/s \n",
            "\u001b[?25hRequirement already satisfied: protobuf in /usr/local/lib/python3.7/dist-packages (from geobuf->dash-leaflet->dash_sylvereye==0.1.1) (3.17.3)\n",
            "Requirement already satisfied: six in /usr/local/lib/python3.7/dist-packages (from geobuf->dash-leaflet->dash_sylvereye==0.1.1) (1.15.0)\n",
            "Requirement already satisfied: tenacity>=6.2.0 in /usr/local/lib/python3.7/dist-packages (from plotly->dash==1.12.0->dash_sylvereye==0.1.1) (8.0.1)\n",
            "Requirement already satisfied: certifi in /usr/local/lib/python3.7/dist-packages (from pyproj->dash_sylvereye==0.1.1) (2022.6.15)\n",
            "Building wheels for collected packages: dash-sylvereye, dash, dash-core-components, dash-html-components, dash-renderer, dash-table, memoization\n",
            "  Building wheel for dash-sylvereye (setup.py) ... \u001b[?25l\u001b[?25hdone\n",
            "  Created wheel for dash-sylvereye: filename=dash_sylvereye-0.1.1-py3-none-any.whl size=2132599 sha256=23282b4db5eb545162cf65c76e762a920ccb2bbe7da9f9db26d359b3371e7f40\n",
            "  Stored in directory: /root/.cache/pip/wheels/da/7e/de/83ab15285e8ee7e3465364220479c6445e895b8ffd0b9f89ff\n",
            "  Building wheel for dash (setup.py) ... \u001b[?25l\u001b[?25hdone\n",
            "  Created wheel for dash: filename=dash-1.12.0-py3-none-any.whl size=73901 sha256=6750527d405f12beb5450edc4d517d6112fe83c26707ba1d7c58fc88f0a6a0c0\n",
            "  Stored in directory: /root/.cache/pip/wheels/83/5a/bb/71b5ab781de27039924ebc8b7670714ae5c9a436c9c9100954\n",
            "  Building wheel for dash-core-components (setup.py) ... \u001b[?25l\u001b[?25hdone\n",
            "  Created wheel for dash-core-components: filename=dash_core_components-1.10.0-py3-none-any.whl size=3454756 sha256=3b472964a2c6b85f99397225a1c2c5efb043fddbf8e5c7fa1970b828932a9552\n",
            "  Stored in directory: /root/.cache/pip/wheels/82/4a/c7/399a824e6ff98cfe06a4aa16f2b14441b9aad98a6be9e2cc47\n",
            "  Building wheel for dash-html-components (setup.py) ... \u001b[?25l\u001b[?25hdone\n",
            "  Created wheel for dash-html-components: filename=dash_html_components-1.0.3-py3-none-any.whl size=427324 sha256=a9345f7db30e82dc3327e12a01cbbd7c1289401e8252ac9936a5ec120130981a\n",
            "  Stored in directory: /root/.cache/pip/wheels/36/34/f9/c3d147461b28467d5bbd14d255be66f6728a1580ff9fbebece\n",
            "  Building wheel for dash-renderer (setup.py) ... \u001b[?25l\u001b[?25hdone\n",
            "  Created wheel for dash-renderer: filename=dash_renderer-1.4.1-py3-none-any.whl size=1165596 sha256=9f84ac0c0b0b644708e40a0aca74b91aa894eb5b815ab8efde8a6817a06a8eed\n",
            "  Stored in directory: /root/.cache/pip/wheels/58/74/07/ccdc4b119cc0314c5fead949457463176dfe3fb5bb86bb09c2\n",
            "  Building wheel for dash-table (setup.py) ... \u001b[?25l\u001b[?25hdone\n",
            "  Created wheel for dash-table: filename=dash_table-4.7.0-py3-none-any.whl size=1777564 sha256=8ea94d9c09eac34e90c0d5c53ac57257c363ff5ae0605efd1578accef85962d7\n",
            "  Stored in directory: /root/.cache/pip/wheels/d0/74/84/5a72b6f628aaa86352ebaee87c2ce151b7e610e85af7e9a506\n",
            "  Building wheel for memoization (setup.py) ... \u001b[?25l\u001b[?25hdone\n",
            "  Created wheel for memoization: filename=memoization-0.4.0-py3-none-any.whl size=50467 sha256=656b22256692f66ce7a3fc8cd61c78bd0993a56ea711068368f114746d6aef42\n",
            "  Stored in directory: /root/.cache/pip/wheels/38/f7/65/161985e7311dd484a23b3a5c9149995dbf11db6cede602e7ef\n",
            "Successfully built dash-sylvereye dash dash-core-components dash-html-components dash-renderer dash-table memoization\n",
            "Installing collected packages: brotli, geobuf, flask-compress, dash-table, dash-renderer, dash-html-components, dash-core-components, pyproj, memoization, dash-leaflet, dash, dash-sylvereye\n",
            "Successfully installed brotli-1.0.9 dash-1.12.0 dash-core-components-1.10.0 dash-html-components-1.0.3 dash-leaflet-0.1.23 dash-renderer-1.4.1 dash-sylvereye-0.1.1 dash-table-4.7.0 flask-compress-1.12 geobuf-1.1.1 memoization-0.4.0 pyproj-3.2.1\n"
          ]
        }
      ]
    },
    {
      "cell_type": "code",
      "source": [
        "# instalar otras dependencias\n",
        "# esto puede tomar un tiempo\n",
        "\n",
        "!pip install osmnx\n",
        "!pip install jupyter-dash\n",
        "!pip install dash_bootstrap_components==0.13.1"
      ],
      "metadata": {
        "id": "6gqUF3OGm8S8",
        "outputId": "0f4c3833-a944-436b-b7b1-95600158a7ef",
        "colab": {
          "base_uri": "https://localhost:8080/",
          "height": 1000
        }
      },
      "execution_count": 2,
      "outputs": [
        {
          "output_type": "stream",
          "name": "stdout",
          "text": [
            "Looking in indexes: https://pypi.org/simple, https://us-python.pkg.dev/colab-wheels/public/simple/\n",
            "Collecting osmnx\n",
            "  Downloading osmnx-1.1.2-py2.py3-none-any.whl (95 kB)\n",
            "\u001b[K     |████████████████████████████████| 95 kB 3.6 MB/s \n",
            "\u001b[?25hRequirement already satisfied: numpy>=1.21 in /usr/local/lib/python3.7/dist-packages (from osmnx) (1.21.6)\n",
            "Collecting requests>=2.26\n",
            "  Downloading requests-2.28.1-py3-none-any.whl (62 kB)\n",
            "\u001b[K     |████████████████████████████████| 62 kB 1.6 MB/s \n",
            "\u001b[?25hRequirement already satisfied: Shapely<2.0,>=1.7 in /usr/local/lib/python3.7/dist-packages (from osmnx) (1.8.2)\n",
            "Requirement already satisfied: pyproj>=3.2 in /usr/local/lib/python3.7/dist-packages (from osmnx) (3.2.1)\n",
            "Collecting Rtree>=0.9\n",
            "  Downloading Rtree-1.0.0-cp37-cp37m-manylinux_2_17_x86_64.manylinux2014_x86_64.whl (1.0 MB)\n",
            "\u001b[K     |████████████████████████████████| 1.0 MB 66.8 MB/s \n",
            "\u001b[?25hRequirement already satisfied: networkx>=2.6 in /usr/local/lib/python3.7/dist-packages (from osmnx) (2.6.3)\n",
            "Requirement already satisfied: pandas>=1.3 in /usr/local/lib/python3.7/dist-packages (from osmnx) (1.3.5)\n",
            "Collecting geopandas>=0.10\n",
            "  Downloading geopandas-0.10.2-py2.py3-none-any.whl (1.0 MB)\n",
            "\u001b[K     |████████████████████████████████| 1.0 MB 40.0 MB/s \n",
            "\u001b[?25hCollecting matplotlib>=3.4\n",
            "  Downloading matplotlib-3.5.2-cp37-cp37m-manylinux_2_5_x86_64.manylinux1_x86_64.whl (11.2 MB)\n",
            "\u001b[K     |████████████████████████████████| 11.2 MB 45.0 MB/s \n",
            "\u001b[?25hCollecting fiona>=1.8\n",
            "  Downloading Fiona-1.8.21-cp37-cp37m-manylinux2014_x86_64.whl (16.7 MB)\n",
            "\u001b[K     |████████████████████████████████| 16.7 MB 51.3 MB/s \n",
            "\u001b[?25hRequirement already satisfied: six>=1.7 in /usr/local/lib/python3.7/dist-packages (from fiona>=1.8->geopandas>=0.10->osmnx) (1.15.0)\n",
            "Collecting cligj>=0.5\n",
            "  Downloading cligj-0.7.2-py3-none-any.whl (7.1 kB)\n",
            "Requirement already satisfied: certifi in /usr/local/lib/python3.7/dist-packages (from fiona>=1.8->geopandas>=0.10->osmnx) (2022.6.15)\n",
            "Requirement already satisfied: attrs>=17 in /usr/local/lib/python3.7/dist-packages (from fiona>=1.8->geopandas>=0.10->osmnx) (21.4.0)\n",
            "Collecting munch\n",
            "  Downloading munch-2.5.0-py2.py3-none-any.whl (10 kB)\n",
            "Requirement already satisfied: setuptools in /usr/local/lib/python3.7/dist-packages (from fiona>=1.8->geopandas>=0.10->osmnx) (57.4.0)\n",
            "Collecting click-plugins>=1.0\n",
            "  Downloading click_plugins-1.1.1-py2.py3-none-any.whl (7.5 kB)\n",
            "Requirement already satisfied: click>=4.0 in /usr/local/lib/python3.7/dist-packages (from fiona>=1.8->geopandas>=0.10->osmnx) (7.1.2)\n",
            "Requirement already satisfied: packaging>=20.0 in /usr/local/lib/python3.7/dist-packages (from matplotlib>=3.4->osmnx) (21.3)\n",
            "Requirement already satisfied: python-dateutil>=2.7 in /usr/local/lib/python3.7/dist-packages (from matplotlib>=3.4->osmnx) (2.8.2)\n",
            "Requirement already satisfied: kiwisolver>=1.0.1 in /usr/local/lib/python3.7/dist-packages (from matplotlib>=3.4->osmnx) (1.4.3)\n",
            "Requirement already satisfied: cycler>=0.10 in /usr/local/lib/python3.7/dist-packages (from matplotlib>=3.4->osmnx) (0.11.0)\n",
            "Requirement already satisfied: pyparsing>=2.2.1 in /usr/local/lib/python3.7/dist-packages (from matplotlib>=3.4->osmnx) (3.0.9)\n",
            "Collecting fonttools>=4.22.0\n",
            "  Downloading fonttools-4.34.4-py3-none-any.whl (944 kB)\n",
            "\u001b[K     |████████████████████████████████| 944 kB 48.8 MB/s \n",
            "\u001b[?25hRequirement already satisfied: pillow>=6.2.0 in /usr/local/lib/python3.7/dist-packages (from matplotlib>=3.4->osmnx) (7.1.2)\n",
            "Requirement already satisfied: typing-extensions in /usr/local/lib/python3.7/dist-packages (from kiwisolver>=1.0.1->matplotlib>=3.4->osmnx) (4.1.1)\n",
            "Requirement already satisfied: pytz>=2017.3 in /usr/local/lib/python3.7/dist-packages (from pandas>=1.3->osmnx) (2022.1)\n",
            "Requirement already satisfied: urllib3<1.27,>=1.21.1 in /usr/local/lib/python3.7/dist-packages (from requests>=2.26->osmnx) (1.24.3)\n",
            "Requirement already satisfied: idna<4,>=2.5 in /usr/local/lib/python3.7/dist-packages (from requests>=2.26->osmnx) (2.10)\n",
            "Requirement already satisfied: charset-normalizer<3,>=2 in /usr/local/lib/python3.7/dist-packages (from requests>=2.26->osmnx) (2.1.0)\n",
            "Installing collected packages: munch, cligj, click-plugins, fonttools, fiona, Rtree, requests, matplotlib, geopandas, osmnx\n",
            "  Attempting uninstall: requests\n",
            "    Found existing installation: requests 2.23.0\n",
            "    Uninstalling requests-2.23.0:\n",
            "      Successfully uninstalled requests-2.23.0\n",
            "  Attempting uninstall: matplotlib\n",
            "    Found existing installation: matplotlib 3.2.2\n",
            "    Uninstalling matplotlib-3.2.2:\n",
            "      Successfully uninstalled matplotlib-3.2.2\n",
            "\u001b[31mERROR: pip's dependency resolver does not currently take into account all the packages that are installed. This behaviour is the source of the following dependency conflicts.\n",
            "google-colab 1.0.0 requires requests~=2.23.0, but you have requests 2.28.1 which is incompatible.\n",
            "datascience 0.10.6 requires folium==0.2.1, but you have folium 0.8.3 which is incompatible.\n",
            "albumentations 0.1.12 requires imgaug<0.2.7,>=0.2.5, but you have imgaug 0.2.9 which is incompatible.\u001b[0m\n",
            "Successfully installed Rtree-1.0.0 click-plugins-1.1.1 cligj-0.7.2 fiona-1.8.21 fonttools-4.34.4 geopandas-0.10.2 matplotlib-3.5.2 munch-2.5.0 osmnx-1.1.2 requests-2.28.1\n"
          ]
        },
        {
          "output_type": "display_data",
          "data": {
            "application/vnd.colab-display-data+json": {
              "pip_warning": {
                "packages": [
                  "matplotlib",
                  "mpl_toolkits"
                ]
              }
            }
          },
          "metadata": {}
        },
        {
          "output_type": "stream",
          "name": "stdout",
          "text": [
            "Looking in indexes: https://pypi.org/simple, https://us-python.pkg.dev/colab-wheels/public/simple/\n",
            "Collecting jupyter-dash\n",
            "  Downloading jupyter_dash-0.4.2-py3-none-any.whl (23 kB)\n",
            "Requirement already satisfied: dash in /usr/local/lib/python3.7/dist-packages (from jupyter-dash) (1.12.0)\n",
            "Requirement already satisfied: ipykernel in /usr/local/lib/python3.7/dist-packages (from jupyter-dash) (4.10.1)\n",
            "Requirement already satisfied: requests in /usr/local/lib/python3.7/dist-packages (from jupyter-dash) (2.28.1)\n",
            "Requirement already satisfied: ipython in /usr/local/lib/python3.7/dist-packages (from jupyter-dash) (5.5.0)\n",
            "Collecting ansi2html\n",
            "  Downloading ansi2html-1.8.0-py3-none-any.whl (16 kB)\n",
            "Requirement already satisfied: flask in /usr/local/lib/python3.7/dist-packages (from jupyter-dash) (1.1.4)\n",
            "Requirement already satisfied: nest-asyncio in /usr/local/lib/python3.7/dist-packages (from jupyter-dash) (1.5.5)\n",
            "Collecting retrying\n",
            "  Downloading retrying-1.3.3.tar.gz (10 kB)\n",
            "Requirement already satisfied: importlib-metadata in /usr/local/lib/python3.7/dist-packages (from ansi2html->jupyter-dash) (4.11.4)\n",
            "Requirement already satisfied: future in /usr/local/lib/python3.7/dist-packages (from dash->jupyter-dash) (0.16.0)\n",
            "Requirement already satisfied: dash-core-components==1.10.0 in /usr/local/lib/python3.7/dist-packages (from dash->jupyter-dash) (1.10.0)\n",
            "Requirement already satisfied: plotly in /usr/local/lib/python3.7/dist-packages (from dash->jupyter-dash) (5.5.0)\n",
            "Requirement already satisfied: flask-compress in /usr/local/lib/python3.7/dist-packages (from dash->jupyter-dash) (1.12)\n",
            "Requirement already satisfied: dash-renderer==1.4.1 in /usr/local/lib/python3.7/dist-packages (from dash->jupyter-dash) (1.4.1)\n",
            "Requirement already satisfied: dash-table==4.7.0 in /usr/local/lib/python3.7/dist-packages (from dash->jupyter-dash) (4.7.0)\n",
            "Requirement already satisfied: dash-html-components==1.0.3 in /usr/local/lib/python3.7/dist-packages (from dash->jupyter-dash) (1.0.3)\n",
            "Requirement already satisfied: click<8.0,>=5.1 in /usr/local/lib/python3.7/dist-packages (from flask->jupyter-dash) (7.1.2)\n",
            "Requirement already satisfied: Jinja2<3.0,>=2.10.1 in /usr/local/lib/python3.7/dist-packages (from flask->jupyter-dash) (2.11.3)\n",
            "Requirement already satisfied: itsdangerous<2.0,>=0.24 in /usr/local/lib/python3.7/dist-packages (from flask->jupyter-dash) (1.1.0)\n",
            "Requirement already satisfied: Werkzeug<2.0,>=0.15 in /usr/local/lib/python3.7/dist-packages (from flask->jupyter-dash) (1.0.1)\n",
            "Requirement already satisfied: MarkupSafe>=0.23 in /usr/local/lib/python3.7/dist-packages (from Jinja2<3.0,>=2.10.1->flask->jupyter-dash) (2.0.1)\n",
            "Requirement already satisfied: brotli in /usr/local/lib/python3.7/dist-packages (from flask-compress->dash->jupyter-dash) (1.0.9)\n",
            "Requirement already satisfied: zipp>=0.5 in /usr/local/lib/python3.7/dist-packages (from importlib-metadata->ansi2html->jupyter-dash) (3.8.0)\n",
            "Requirement already satisfied: typing-extensions>=3.6.4 in /usr/local/lib/python3.7/dist-packages (from importlib-metadata->ansi2html->jupyter-dash) (4.1.1)\n",
            "Requirement already satisfied: traitlets>=4.1.0 in /usr/local/lib/python3.7/dist-packages (from ipykernel->jupyter-dash) (5.1.1)\n",
            "Requirement already satisfied: tornado>=4.0 in /usr/local/lib/python3.7/dist-packages (from ipykernel->jupyter-dash) (5.1.1)\n",
            "Requirement already satisfied: jupyter-client in /usr/local/lib/python3.7/dist-packages (from ipykernel->jupyter-dash) (5.3.5)\n",
            "Requirement already satisfied: decorator in /usr/local/lib/python3.7/dist-packages (from ipython->jupyter-dash) (4.4.2)\n",
            "Requirement already satisfied: setuptools>=18.5 in /usr/local/lib/python3.7/dist-packages (from ipython->jupyter-dash) (57.4.0)\n",
            "Requirement already satisfied: pygments in /usr/local/lib/python3.7/dist-packages (from ipython->jupyter-dash) (2.6.1)\n",
            "Requirement already satisfied: prompt-toolkit<2.0.0,>=1.0.4 in /usr/local/lib/python3.7/dist-packages (from ipython->jupyter-dash) (1.0.18)\n",
            "Requirement already satisfied: pickleshare in /usr/local/lib/python3.7/dist-packages (from ipython->jupyter-dash) (0.7.5)\n",
            "Requirement already satisfied: simplegeneric>0.8 in /usr/local/lib/python3.7/dist-packages (from ipython->jupyter-dash) (0.8.1)\n",
            "Requirement already satisfied: pexpect in /usr/local/lib/python3.7/dist-packages (from ipython->jupyter-dash) (4.8.0)\n",
            "Requirement already satisfied: wcwidth in /usr/local/lib/python3.7/dist-packages (from prompt-toolkit<2.0.0,>=1.0.4->ipython->jupyter-dash) (0.2.5)\n",
            "Requirement already satisfied: six>=1.9.0 in /usr/local/lib/python3.7/dist-packages (from prompt-toolkit<2.0.0,>=1.0.4->ipython->jupyter-dash) (1.15.0)\n",
            "Requirement already satisfied: python-dateutil>=2.1 in /usr/local/lib/python3.7/dist-packages (from jupyter-client->ipykernel->jupyter-dash) (2.8.2)\n",
            "Requirement already satisfied: jupyter-core>=4.6.0 in /usr/local/lib/python3.7/dist-packages (from jupyter-client->ipykernel->jupyter-dash) (4.10.0)\n",
            "Requirement already satisfied: pyzmq>=13 in /usr/local/lib/python3.7/dist-packages (from jupyter-client->ipykernel->jupyter-dash) (23.1.0)\n",
            "Requirement already satisfied: ptyprocess>=0.5 in /usr/local/lib/python3.7/dist-packages (from pexpect->ipython->jupyter-dash) (0.7.0)\n",
            "Requirement already satisfied: tenacity>=6.2.0 in /usr/local/lib/python3.7/dist-packages (from plotly->dash->jupyter-dash) (8.0.1)\n",
            "Requirement already satisfied: charset-normalizer<3,>=2 in /usr/local/lib/python3.7/dist-packages (from requests->jupyter-dash) (2.1.0)\n",
            "Requirement already satisfied: urllib3<1.27,>=1.21.1 in /usr/local/lib/python3.7/dist-packages (from requests->jupyter-dash) (1.24.3)\n",
            "Requirement already satisfied: certifi>=2017.4.17 in /usr/local/lib/python3.7/dist-packages (from requests->jupyter-dash) (2022.6.15)\n",
            "Requirement already satisfied: idna<4,>=2.5 in /usr/local/lib/python3.7/dist-packages (from requests->jupyter-dash) (2.10)\n",
            "Building wheels for collected packages: retrying\n",
            "  Building wheel for retrying (setup.py) ... \u001b[?25l\u001b[?25hdone\n",
            "  Created wheel for retrying: filename=retrying-1.3.3-py3-none-any.whl size=11447 sha256=cb7001f941bf19d7ad7167512f1602eeb9de2f8fa1a2f53cb27d7a368cecb4ec\n",
            "  Stored in directory: /root/.cache/pip/wheels/f9/8d/8d/f6af3f7f9eea3553bc2fe6d53e4b287dad18b06a861ac56ddf\n",
            "Successfully built retrying\n",
            "Installing collected packages: retrying, ansi2html, jupyter-dash\n",
            "Successfully installed ansi2html-1.8.0 jupyter-dash-0.4.2 retrying-1.3.3\n",
            "Looking in indexes: https://pypi.org/simple, https://us-python.pkg.dev/colab-wheels/public/simple/\n",
            "Collecting dash_bootstrap_components==0.13.1\n",
            "  Downloading dash_bootstrap_components-0.13.1-py3-none-any.whl (197 kB)\n",
            "\u001b[K     |████████████████████████████████| 197 kB 14.8 MB/s \n",
            "\u001b[?25hRequirement already satisfied: dash>=1.9.0 in /usr/local/lib/python3.7/dist-packages (from dash_bootstrap_components==0.13.1) (1.12.0)\n",
            "Requirement already satisfied: dash-renderer==1.4.1 in /usr/local/lib/python3.7/dist-packages (from dash>=1.9.0->dash_bootstrap_components==0.13.1) (1.4.1)\n",
            "Requirement already satisfied: Flask>=1.0.2 in /usr/local/lib/python3.7/dist-packages (from dash>=1.9.0->dash_bootstrap_components==0.13.1) (1.1.4)\n",
            "Requirement already satisfied: dash-html-components==1.0.3 in /usr/local/lib/python3.7/dist-packages (from dash>=1.9.0->dash_bootstrap_components==0.13.1) (1.0.3)\n",
            "Requirement already satisfied: dash-core-components==1.10.0 in /usr/local/lib/python3.7/dist-packages (from dash>=1.9.0->dash_bootstrap_components==0.13.1) (1.10.0)\n",
            "Requirement already satisfied: dash-table==4.7.0 in /usr/local/lib/python3.7/dist-packages (from dash>=1.9.0->dash_bootstrap_components==0.13.1) (4.7.0)\n",
            "Requirement already satisfied: future in /usr/local/lib/python3.7/dist-packages (from dash>=1.9.0->dash_bootstrap_components==0.13.1) (0.16.0)\n",
            "Requirement already satisfied: flask-compress in /usr/local/lib/python3.7/dist-packages (from dash>=1.9.0->dash_bootstrap_components==0.13.1) (1.12)\n",
            "Requirement already satisfied: plotly in /usr/local/lib/python3.7/dist-packages (from dash>=1.9.0->dash_bootstrap_components==0.13.1) (5.5.0)\n",
            "Requirement already satisfied: click<8.0,>=5.1 in /usr/local/lib/python3.7/dist-packages (from Flask>=1.0.2->dash>=1.9.0->dash_bootstrap_components==0.13.1) (7.1.2)\n",
            "Requirement already satisfied: Jinja2<3.0,>=2.10.1 in /usr/local/lib/python3.7/dist-packages (from Flask>=1.0.2->dash>=1.9.0->dash_bootstrap_components==0.13.1) (2.11.3)\n",
            "Requirement already satisfied: Werkzeug<2.0,>=0.15 in /usr/local/lib/python3.7/dist-packages (from Flask>=1.0.2->dash>=1.9.0->dash_bootstrap_components==0.13.1) (1.0.1)\n",
            "Requirement already satisfied: itsdangerous<2.0,>=0.24 in /usr/local/lib/python3.7/dist-packages (from Flask>=1.0.2->dash>=1.9.0->dash_bootstrap_components==0.13.1) (1.1.0)\n",
            "Requirement already satisfied: MarkupSafe>=0.23 in /usr/local/lib/python3.7/dist-packages (from Jinja2<3.0,>=2.10.1->Flask>=1.0.2->dash>=1.9.0->dash_bootstrap_components==0.13.1) (2.0.1)\n",
            "Requirement already satisfied: brotli in /usr/local/lib/python3.7/dist-packages (from flask-compress->dash>=1.9.0->dash_bootstrap_components==0.13.1) (1.0.9)\n",
            "Requirement already satisfied: tenacity>=6.2.0 in /usr/local/lib/python3.7/dist-packages (from plotly->dash>=1.9.0->dash_bootstrap_components==0.13.1) (8.0.1)\n",
            "Requirement already satisfied: six in /usr/local/lib/python3.7/dist-packages (from plotly->dash>=1.9.0->dash_bootstrap_components==0.13.1) (1.15.0)\n",
            "Installing collected packages: dash-bootstrap-components\n",
            "Successfully installed dash-bootstrap-components-0.13.1\n"
          ]
        }
      ]
    },
    {
      "cell_type": "code",
      "source": [
        "# importar clases y métodos a usar\n",
        "\n",
        "import osmnx as ox\n",
        "import numpy as np\n",
        "import pandas\n",
        "from jupyter_dash import JupyterDash\n",
        "from dash_html_components import Div\n",
        "from dash_sylvereye import SylvereyeRoadNetwork\n",
        "from dash_sylvereye.utils import load_from_osmnx_graph \n",
        "from dash_sylvereye.enums import NodeSizeMethod, EdgeColorMethod, EdgeWidthMethod, EdgeAlphaMethod\n",
        "from dash_sylvereye.defaults import get_default_node_options, get_default_edge_options\n",
        "from dash.dependencies import Input, Output\n",
        "from dash_html_components import H2, H3\n",
        "from dash_core_components import Markdown, Graph\n",
        "import dash_bootstrap_components as dbc"
      ],
      "metadata": {
        "id": "-0pBYhWumxG0"
      },
      "execution_count": 3,
      "outputs": []
    },
    {
      "cell_type": "code",
      "source": [
        "# configuración de la aplicación\n",
        "\n",
        "OSMNX_QUERY = 'Iztapalapa'\n",
        "TILE_LAYER_URL = '//stamen-tiles-{s}.a.ssl.fastly.net/toner/{z}/{x}/{y}.png'\n",
        "TILE_LAYER_SUBDOMAINS = 'abcd'\n",
        "TILE_LAYER_ATTRIBUTION = 'Map tiles by <a href=\"http://stamen.com\">Stamen Design</a>, under <a href=\"http://creativecommons.org/licenses/by/3.0\">CC BY 3.0</a>. Data by <a href=\"http://openstreetmap.org\">OpenStreetMap</a>, under <a href=\"http://www.openstreetmap.org/copyright\">ODbL</a>.'\n",
        "MAP_CENTER = [19.3429,-99.0502]\n",
        "MAP_ZOOM = 15\n",
        "MAP_STYLE = {'width': '100%', 'height': '100vh'}\n",
        "TILE_LAYER_OPACITY = 0.20"
      ],
      "metadata": {
        "id": "YHfZG3z8myeT"
      },
      "execution_count": 10,
      "outputs": []
    },
    {
      "cell_type": "code",
      "source": [
        "# obtener la topología de la red de caminos desde OSM \n",
        "# esto puede tomar un tiempo\n",
        "\n",
        "road_network = ox.graph_from_place(OSMNX_QUERY, network_type='drive') \n",
        "_, edges_data = load_from_osmnx_graph(road_network)"
      ],
      "metadata": {
        "id": "o1cjkJh7jLmx"
      },
      "execution_count": 11,
      "outputs": []
    },
    {
      "cell_type": "code",
      "source": [
        "# asignar las longitudes de las calles como pesos\n",
        "\n",
        "for edge in edges_data: \n",
        "  edge[\"data\"][\"weight\"] = edge[\"data\"][\"length\"]\n"
      ],
      "metadata": {
        "id": "h21ej7hjvc9m"
      },
      "execution_count": 12,
      "outputs": []
    },
    {
      "cell_type": "code",
      "source": [
        "# configurar las opciones de visualización de los enlaces\n",
        "\n",
        "edge_options = get_default_edge_options()\n",
        "edge_options[\"width_method\"] = EdgeWidthMethod.SCALE\n",
        "edge_options[\"width_scale_field\"] = \"weight\"\n",
        "edge_options[\"color_method\"] = EdgeColorMethod.SCALE\n",
        "edge_options[\"color_scale_field\"] = \"weight\"\n",
        "edge_options[\"color_scale_left\"] = 0xcbdbff\n",
        "edge_options[\"color_scale_right\"] = 0x06696\n",
        "edge_options[\"alpha_method\"] = EdgeAlphaMethod.SCALE\n",
        "edge_options[\"alpha_scale_field\"] = \"weight\""
      ],
      "metadata": {
        "id": "GNHXz2Uz0iKU"
      },
      "execution_count": 13,
      "outputs": []
    },
    {
      "cell_type": "code",
      "execution_count": 14,
      "metadata": {
        "id": "Fyj2uC1XlmGZ"
      },
      "outputs": [],
      "source": [
        "# construir visualización\n",
        "\n",
        "app = JupyterDash(__name__, external_stylesheets=[dbc.themes.BOOTSTRAP])\n",
        "\n",
        "navbar = dbc.NavbarSimple(\n",
        "    brand=\"Visualization of street lengths with Dash Sylvereye\",\n",
        "    brand_href=\"#\",\n",
        "    color=\"primary\",\n",
        "    dark=True,\n",
        ")\n",
        "\n",
        "sylvereye = \\\n",
        "    SylvereyeRoadNetwork(\n",
        "                         id='sylvereye-roadnet',\n",
        "                         tile_layer_url=TILE_LAYER_URL,\n",
        "                         tile_layer_subdomains=TILE_LAYER_SUBDOMAINS,\n",
        "                         tile_layer_attribution=TILE_LAYER_ATTRIBUTION,\n",
        "                         map_center=MAP_CENTER,\n",
        "                         map_zoom=MAP_ZOOM,\n",
        "                         map_style=MAP_STYLE,                         \n",
        "                         edges_data=edges_data,                         \n",
        "                         edge_options=edge_options,                         \n",
        "                         tile_layer_opacity=TILE_LAYER_OPACITY\n",
        "                        )\n",
        "markdown = \\\n",
        "  Markdown(id='markdown-street-data')\n",
        " \n",
        "app.layout = dbc.Container(\n",
        "    [\n",
        "        navbar,\n",
        "        dbc.Row(\n",
        "            [\n",
        "                dbc.Col(sylvereye, md=10),\n",
        "                dbc.Col(markdown, md=2)\n",
        "            ],\n",
        "            align='center'\n",
        "        )       \n",
        "    ], fluid=True\n",
        ")\n",
        "@app.callback(\n",
        "    Output('markdown-street-data', 'children'),\n",
        "    [Input('sylvereye-roadnet', 'clicked_edge')])\n",
        "def update_street_data(clicked_edge):        \n",
        "    if clicked_edge:\n",
        "\n",
        "        data = clicked_edge[\"data\"][\"data\"]\n",
        "               \n",
        "        return f'''\n",
        "\n",
        "        ## Query\n",
        "\n",
        "        {OSMNX_QUERY}\n",
        "\n",
        "        ## Street data\n",
        "\n",
        "        | Property | Value |\n",
        "        | -------- | ----- |\n",
        "        | Source OSMID | {data[\"source_osmid\"]} |\n",
        "        | Target OSMID | {data[\"target_osmid\"]} |\n",
        "        | Street name| {data[\"name\"]} |\n",
        "        | Max. speed | {data[\"maxspeed\"]} |\n",
        "        | Length | {data[\"length\"]} |    \n",
        "        | One-way | {data[\"oneway\"]} |\n",
        "        \n",
        "        '''\n"
      ]
    },
    {
      "cell_type": "code",
      "source": [
        "# correr visualización\n",
        "app.run_server()"
      ],
      "metadata": {
        "id": "sKsurcNDpDC6",
        "outputId": "a8cbd91d-41ee-453e-e5ed-5cec96179682",
        "colab": {
          "base_uri": "https://localhost:8080/",
          "height": 52
        }
      },
      "execution_count": 15,
      "outputs": [
        {
          "output_type": "stream",
          "name": "stdout",
          "text": [
            "Dash app running on:\n"
          ]
        },
        {
          "output_type": "display_data",
          "data": {
            "text/plain": [
              "<IPython.core.display.Javascript object>"
            ],
            "application/javascript": [
              "(async (port, path, text, element) => {\n",
              "    if (!google.colab.kernel.accessAllowed) {\n",
              "      return;\n",
              "    }\n",
              "    element.appendChild(document.createTextNode(''));\n",
              "    const url = await google.colab.kernel.proxyPort(port);\n",
              "    const anchor = document.createElement('a');\n",
              "    anchor.href = new URL(path, url).toString();\n",
              "    anchor.target = '_blank';\n",
              "    anchor.setAttribute('data-href', url + path);\n",
              "    anchor.textContent = text;\n",
              "    element.appendChild(anchor);\n",
              "  })(8050, \"/\", \"http://127.0.0.1:8050/\", window.element)"
            ]
          },
          "metadata": {}
        }
      ]
    }
  ]
}