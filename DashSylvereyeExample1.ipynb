{
  "nbformat": 4,
  "nbformat_minor": 0,
  "metadata": {
    "colab": {
      "name": "DashSylvereyeExample1.ipynb",
      "provenance": [],
      "include_colab_link": true
    },
    "kernelspec": {
      "name": "python3",
      "display_name": "Python 3"
    },
    "language_info": {
      "name": "python"
    }
  },
  "cells": [
    {
      "cell_type": "markdown",
      "metadata": {
        "id": "view-in-github",
        "colab_type": "text"
      },
      "source": [
        "<a href=\"https://colab.research.google.com/github/AndresFloresF/DashCursoGeo/blob/master/DashSylvereyeExample1.ipynb\" target=\"_parent\"><img src=\"https://colab.research.google.com/assets/colab-badge.svg\" alt=\"Open In Colab\"/></a>"
      ]
    },
    {
      "cell_type": "markdown",
      "source": [
        "## Ejemplo Dash Sylvereye: \n",
        "### Visualizando una red de caminos\n",
        "### Autor: Alberto García Robledo, CONACYT-CentroGeo\n"
      ],
      "metadata": {
        "id": "MJvq9EDt3PXL"
      }
    },
    {
      "cell_type": "code",
      "source": [
        "# instalar Dash Sylvereye\n",
        "# esto puede tomar un tiempo\n",
        "\n",
        "!pip install --extra-index-url http://pypi.observatoriogeo.mx/simple/ --trusted-host pypi.observatoriogeo.mx dash_sylvereye==0.1.1"
      ],
      "metadata": {
        "id": "r6XH7k3tc4q4"
      },
      "execution_count": null,
      "outputs": []
    },
    {
      "cell_type": "code",
      "source": [
        "# instalar otras dependencias\n",
        "# esto puede tomar un tiempo\n",
        "\n",
        "!pip install osmnx\n",
        "!pip install jupyter-dash"
      ],
      "metadata": {
        "id": "6gqUF3OGm8S8"
      },
      "execution_count": null,
      "outputs": []
    },
    {
      "cell_type": "code",
      "source": [
        "# importar clases y métodos a usar\n",
        "\n",
        "import osmnx as ox\n",
        "from jupyter_dash import JupyterDash\n",
        "from dash_html_components import Div\n",
        "from dash_sylvereye import SylvereyeRoadNetwork\n",
        "from dash_sylvereye.utils import load_from_osmnx_graph"
      ],
      "metadata": {
        "id": "-0pBYhWumxG0"
      },
      "execution_count": null,
      "outputs": []
    },
    {
      "cell_type": "code",
      "source": [
        "# configuración de la aplicación\n",
        "\n",
        "OSMNX_QUERY = 'Kamppi, Helsinki, Finland'\n",
        "TILE_LAYER_URL = '//stamen-tiles-{s}.a.ssl.fastly.net/toner/{z}/{x}/{y}.png'\n",
        "TILE_LAYER_SUBDOMAINS = 'abcd'\n",
        "TILE_LAYER_ATTRIBUTION = 'Map tiles by <a href=\"http://stamen.com\">Stamen Design</a>, under <a href=\"http://creativecommons.org/licenses/by/3.0\">CC BY 3.0</a>. Data by <a href=\"http://openstreetmap.org\">OpenStreetMap</a>, under <a href=\"http://www.openstreetmap.org/copyright\">ODbL</a>.'\n",
        "MAP_CENTER = [60.1663, 24.9313]\n",
        "MAP_ZOOM = 15\n",
        "MAP_STYLE = {'width': '100%', 'height': '100vh'}\n",
        "TILE_LAYER_OPACITY = 0.20"
      ],
      "metadata": {
        "id": "YHfZG3z8myeT"
      },
      "execution_count": null,
      "outputs": []
    },
    {
      "cell_type": "code",
      "source": [
        "# obtener la topología de la red de caminos desde OSM \n",
        "# esto puede tomar un tiempo\n",
        "\n",
        "road_network = ox.graph_from_place(OSMNX_QUERY, network_type='drive') \n",
        "nodes_data, edges_data = load_from_osmnx_graph(road_network)"
      ],
      "metadata": {
        "id": "o1cjkJh7jLmx"
      },
      "execution_count": null,
      "outputs": []
    },
    {
      "cell_type": "code",
      "execution_count": null,
      "metadata": {
        "id": "Fyj2uC1XlmGZ"
      },
      "outputs": [],
      "source": [
        "# construir visualización\n",
        "\n",
        "app = JupyterDash(__name__)\n",
        "app.layout = Div([\n",
        "    SylvereyeRoadNetwork(\n",
        "                         id='sylvereye-roadnet',\n",
        "                         tile_layer_url=TILE_LAYER_URL,\n",
        "                         tile_layer_subdomains=TILE_LAYER_SUBDOMAINS,\n",
        "                         tile_layer_attribution=TILE_LAYER_ATTRIBUTION,\n",
        "                         map_center=MAP_CENTER,\n",
        "                         map_zoom=MAP_ZOOM,\n",
        "                         map_style=MAP_STYLE,\n",
        "                         nodes_data=nodes_data,\n",
        "                         edges_data=edges_data,\n",
        "                         tile_layer_opacity=TILE_LAYER_OPACITY\n",
        "                        )\n",
        "])"
      ]
    },
    {
      "cell_type": "code",
      "source": [
        "# correr visualización\n",
        "\n",
        "app.run_server()"
      ],
      "metadata": {
        "id": "sKsurcNDpDC6"
      },
      "execution_count": null,
      "outputs": []
    }
  ]
}